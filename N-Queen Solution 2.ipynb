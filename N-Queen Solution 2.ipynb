{
 "cells": [
  {
   "cell_type": "markdown",
   "metadata": {},
   "source": [
    "### Import time\n",
    "\n",
    "This is required to use the \"Time\" module.  \n",
    "The function time.time() returns the current system time in ticks since 12:00am, January 1, 1970(epoch)"
   ]
  },
  {
   "cell_type": "code",
   "execution_count": 1,
   "metadata": {},
   "outputs": [],
   "source": [
    "import time"
   ]
  },
  {
   "cell_type": "markdown",
   "metadata": {},
   "source": [
    "### Initialise the Start time"
   ]
  },
  {
   "cell_type": "code",
   "execution_count": 2,
   "metadata": {},
   "outputs": [],
   "source": [
    "start_time = time.time()"
   ]
  },
  {
   "cell_type": "markdown",
   "metadata": {},
   "source": [
    "### Fn to define the N-Queens problem"
   ]
  },
  {
   "cell_type": "code",
   "execution_count": 3,
   "metadata": {},
   "outputs": [],
   "source": [
    "def queensproblem(rows, columns):\n",
    "    solutions = [[]]\n",
    "    for row in range(rows):\n",
    "        solutions = add_one_queen(row, columns, solutions)\n",
    "    return solutions"
   ]
  },
  {
   "cell_type": "markdown",
   "metadata": {},
   "source": [
    "### Fn to add queens to board\n",
    "\n",
    "Provided there is no_conflict()"
   ]
  },
  {
   "cell_type": "code",
   "execution_count": 4,
   "metadata": {},
   "outputs": [],
   "source": [
    "def add_one_queen(new_row, columns, prev_solutions):\n",
    "    return [solution + [new_column]\n",
    "            for solution in prev_solutions\n",
    "            for new_column in range(columns)\n",
    "            if no_conflict(new_row, new_column, solution)]"
   ]
  },
  {
   "cell_type": "markdown",
   "metadata": {},
   "source": [
    "### Original Fn to check for no_conflict()"
   ]
  },
  {
   "cell_type": "code",
   "execution_count": 5,
   "metadata": {},
   "outputs": [],
   "source": [
    "#def no_conflict(new_row, new_column, solution):\n",
    "    #return all(solution[row]       != new_column           and\n",
    "    #           solution[row] + row != new_column + new_row and\n",
    "    #           solution[row] - row != new_column - new_row\n",
    "    #           for row in range(new_row))"
   ]
  },
  {
   "cell_type": "markdown",
   "metadata": {},
   "source": [
    "### Optimised Fn to check for no_conflict()\n",
    "\n",
    "The optimised fn fastens up the solving-process by almost 150%.  \n",
    "Apprently the no_conflict() function takes the maximum amount of time to execute.  \n",
    "Simce this is a rather simple way of solving the problem, for more efficiency, we have to use some other strategy."
   ]
  },
  {
   "cell_type": "code",
   "execution_count": 6,
   "metadata": {},
   "outputs": [],
   "source": [
    "def no_conflict(new_row, new_col, solution):\n",
    "    if new_col in solution:\n",
    "        return False\n",
    "    for row, col in enumerate(solution):\n",
    "        if row + col == new_row + new_col or row - col == new_row - new_col:\n",
    "            return False\n",
    "    return True"
   ]
  },
  {
   "cell_type": "markdown",
   "metadata": {},
   "source": [
    "### Checking the solutions for a given board and the time taken"
   ]
  },
  {
   "cell_type": "code",
   "execution_count": 7,
   "metadata": {},
   "outputs": [
    {
     "name": "stdout",
     "output_type": "stream",
     "text": [
      "Enter number of ROWS for Chess/Matrix: 4\n",
      "Enter number of COLUMNS for Chess/Matrix: 4\n",
      "\n",
      "\n",
      "\n",
      " [1, 3, 0, 2]\n",
      "\n",
      " [2, 0, 3, 1]\n",
      "\n",
      " Total number of solution is:  2\n",
      "\n",
      "--- Time: 7.965584993362427 miliseconds ---\n"
     ]
    }
   ],
   "source": [
    "count = 0\n",
    "r = input(\"Enter number of ROWS for Chess/Matrix: \")\n",
    "c = input(\"Enter number of COLUMNS for Chess/Matrix: \")\n",
    "print('\\n')\n",
    "\n",
    "for solution in queensproblem(int(r), int(c)):\n",
    "    count += 1\n",
    "    print('\\n', solution)\n",
    "\n",
    "print(\"\\n Total number of solution is: \", count)\n",
    "print(\"\\n--- Time: %s miliseconds ---\" % (time.time()-start_time))"
   ]
  },
  {
   "cell_type": "markdown",
   "metadata": {},
   "source": [
    "### There you have it!\n",
    "\n",
    "### This method provides a solution to the N-Queens problem.\n",
    "\n",
    "However, bear in mind to not use values >=15 for the size of the board; you might run into kernel issues.  \n",
    "If you do, and the kernel freezes, just interrupt the kernel, and run the cell for a smaller value to check that all is alright."
   ]
  }
 ],
 "metadata": {
  "kernelspec": {
   "display_name": "Python 3",
   "language": "python",
   "name": "python3"
  },
  "language_info": {
   "codemirror_mode": {
    "name": "ipython",
    "version": 3
   },
   "file_extension": ".py",
   "mimetype": "text/x-python",
   "name": "python",
   "nbconvert_exporter": "python",
   "pygments_lexer": "ipython3",
   "version": "3.6.5"
  }
 },
 "nbformat": 4,
 "nbformat_minor": 2
}
