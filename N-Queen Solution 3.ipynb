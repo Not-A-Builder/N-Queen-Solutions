{
 "cells": [
  {
   "cell_type": "markdown",
   "metadata": {},
   "source": [
    "### Import itertools"
   ]
  },
  {
   "cell_type": "code",
   "execution_count": 9,
   "metadata": {},
   "outputs": [],
   "source": [
    "from itertools import permutations"
   ]
  },
  {
   "cell_type": "markdown",
   "metadata": {},
   "source": [
    "### Defining the size of the board"
   ]
  },
  {
   "cell_type": "code",
   "execution_count": 11,
   "metadata": {},
   "outputs": [],
   "source": [
    "n = 4\n",
    "count=0"
   ]
  },
  {
   "cell_type": "markdown",
   "metadata": {},
   "source": [
    "### Using permutations()"
   ]
  },
  {
   "cell_type": "code",
   "execution_count": 12,
   "metadata": {},
   "outputs": [
    {
     "name": "stdout",
     "output_type": "stream",
     "text": [
      "(1, 3, 0, 2)\n",
      "(2, 0, 3, 1)\n",
      "\n",
      "Number of solutiions:  2\n"
     ]
    }
   ],
   "source": [
    "cols = range(n)\n",
    "\n",
    "for vec in permutations(cols):\n",
    "    if n == len(set(vec[i]+i for i in cols)) \\\n",
    "         == len(set(vec[i]-i for i in cols)):\n",
    "        print ( vec )\n",
    "        count+=1\n",
    "\n",
    "print(\"\\nNumber of solutiions: \", count)       "
   ]
  },
  {
   "cell_type": "markdown",
   "metadata": {},
   "source": [
    "### This is the Raymond Hettingers permutations based solution\n",
    "With the solution represented as a vector with one queen in each row, we don't have to check to see if two queens are on the same row. By using a permutation generator, we know that no value in the vector is repeated, so we don't have to check to see if two queens are on the same column. Since rook moves don't need to be checked, we only need to check bishop moves.  \n",
    "\n",
    "The technique for checking the diagonals is to add or subtract the column number from each entry, so any two entries on the same diagonal will have the same value (in other words, the sum or difference is unique for each diagonal). Now all we have to do is make sure that the diagonals for each of the eight queens are distinct.\n",
    "\n",
    "So, we put them in a set (which eliminates duplicates) and check that the set length is eight (no duplicates were removed).\n",
    "Any permutation with non-overlapping diagonals is a solution. So, we print it and continue checking other permutations."
   ]
  }
 ],
 "metadata": {
  "kernelspec": {
   "display_name": "Python 3",
   "language": "python",
   "name": "python3"
  },
  "language_info": {
   "codemirror_mode": {
    "name": "ipython",
    "version": 3
   },
   "file_extension": ".py",
   "mimetype": "text/x-python",
   "name": "python",
   "nbconvert_exporter": "python",
   "pygments_lexer": "ipython3",
   "version": "3.6.5"
  }
 },
 "nbformat": 4,
 "nbformat_minor": 2
}
